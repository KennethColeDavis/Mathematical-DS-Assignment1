{
 "cells": [
  {
   "cell_type": "markdown",
   "id": "0095b52b",
   "metadata": {},
   "source": [
    "Load in the MNIST dataset and establish our feature vector (x) and our label vector (y)."
   ]
  },
  {
   "cell_type": "code",
   "execution_count": null,
   "id": "08c23828",
   "metadata": {},
   "outputs": [
    {
     "name": "stdout",
     "output_type": "stream",
     "text": [
      "X_subset shape: (5000, 784)\n",
      "y_subset shape: (5000,)\n",
      "[  0.   0.   0.   0.   0.   0.   0.   0.   0.   0.   0.   0.   0.   0.\n",
      "   0.   0.   0.   0.   0.   0.   0.   0.   0.   0.   0.   0.   0.   0.\n",
      "   0.   0.   0.   0.   0.   0.   0.   0.   0.   0.   0.   0.   0.   0.\n",
      "   0.   0.   0.   0.   0.   0.   0.   0.   0.   0.   0.   0.   0.   0.\n",
      "   0.   0.   0.   0.   0.   0.   0.   0.   0.   0.   0.   0.   0.   0.\n",
      "   0.   0.   0.   0.   0.   0.   0.   0.   0.   0.   0.   0.   0.   0.\n",
      "   0.   0.   0.   0.   0.   0.   0.   0.   0.   0.   0.   0.   0.   0.\n",
      "   0.   0.   0.   0.   0.   0.   0.   0.   0.   0.   0.   0.   0.   0.\n",
      "   0.   0.   0.   0.   0.   0.   0.   0.   0.   0.   0.   0.   0.  89.\n",
      " 147. 147. 249. 230.  59.   2.   0.   0.   0.   0.   0.   0.   0.   0.\n",
      "   0.   0.   0.   0.   0.   0.   0.   0.   0.   0.   0.  15. 160. 249.\n",
      " 254. 254. 254. 254. 254. 122.   0.   0.   0.   0.   0.   0.   0.   0.\n",
      "   0.   0.   0.   0.   0.   0.   0.   0.   0.   0.   8. 188. 254. 254.\n",
      " 254. 250. 147. 166. 253. 251. 120.   0.   0.   0.   0.   0.   0.   0.\n",
      "   0.   0.   0.   0.   0.   0.   0.   0.   0.  14. 189. 254. 254. 207.\n",
      " 103.  22.   0.   0. 126. 253. 200.   8.   0.   0.   0.   0.   0.   0.\n",
      "   0.   0.   0.   0.   0.   0.   0.   0.   0. 163. 254. 254. 227.  15.\n",
      "   0.   0.   0.   0.   0. 245. 254.  78.   0.   0.   0.   0.   0.   0.\n",
      "   0.   0.   0.   0.   0.   0.   0.   0.  91. 248. 254. 227.  43.   0.\n",
      "   0.   0.   0.   0.   0. 240. 254. 200.   3.   0.   0.   0.   0.   0.\n",
      "   0.   0.   0.   0.   0.   0.   0.   4. 216. 254. 254. 194. 158.  34.\n",
      "   0.   0.   0.   0.   0. 136. 254. 254.   5.   0.   0.   0.   0.   0.\n",
      "   0.   0.   0.   0.   0.   0.   0.   6. 254. 254. 254. 254. 254. 129.\n",
      "   0.   0.   0.   0.   0. 136. 254. 254.   5.   0.   0.   0.   0.   0.\n",
      "   0.   0.   0.   0.   0.   0.   0.  60. 254. 254. 254. 254. 122.  11.\n",
      "   0.   0.   0.   0.   0. 129. 254. 254.   5.   0.   0.   0.   0.   0.\n",
      "   0.   0.   0.   0.   0.   0.   0. 115. 254. 254. 254. 223.  22.   0.\n",
      "   0.   0.   0.   0.   0.  51. 254. 254.   5.   0.   0.   0.   0.   0.\n",
      "   0.   0.   0.   0.   0.   0.   0. 115. 254. 254. 254. 205.   0.   0.\n",
      "   0.   0.   0.   0.   0. 136. 254. 254.   5.   0.   0.   0.   0.   0.\n",
      "   0.   0.   0.   0.   0.   0.   0. 115. 254. 254. 254. 252.  56.   0.\n",
      "   0.   0.   0.   0.   0. 136. 254. 254.   5.   0.   0.   0.   0.   0.\n",
      "   0.   0.   0.   0.   0.   0.   0.  89. 254. 254. 254. 254.  59.   0.\n",
      "   0.   0.   0.   0.   0. 136. 254. 254.   5.   0.   0.   0.   0.   0.\n",
      "   0.   0.   0.   0.   0.   0.   0.   6. 254. 254. 254. 254. 101.   0.\n",
      "   0.   0.   0.   0.   0. 224. 254. 254.   5.   0.   0.   0.   0.   0.\n",
      "   0.   0.   0.   0.   0.   0.   0.   1.  29. 220. 254. 254. 167.   0.\n",
      "   0.   0.   0.   0.  65. 250. 254. 199.   3.   0.   0.   0.   0.   0.\n",
      "   0.   0.   0.   0.   0.   0.   0.   0.   0.  61. 209. 254. 227.  15.\n",
      "   0.   0.   0.  16. 219. 254. 255.  77.   0.   0.   0.   0.   0.   0.\n",
      "   0.   0.   0.   0.   0.   0.   0.   0.   0.   0. 120. 254. 254. 155.\n",
      "   0.   0.   9. 185. 254. 254. 200.   8.   0.   0.   0.   0.   0.   0.\n",
      "   0.   0.   0.   0.   0.   0.   0.   0.   0.   0.   7. 187. 254. 254.\n",
      " 180. 141. 244. 254. 254. 251. 119.   0.   0.   0.   0.   0.   0.   0.\n",
      "   0.   0.   0.   0.   0.   0.   0.   0.   0.   0.   0.  15. 183. 254.\n",
      " 254. 254. 254. 254. 227. 118.   0.   0.   0.   0.   0.   0.   0.   0.\n",
      "   0.   0.   0.   0.   0.   0.   0.   0.   0.   0.   0.   0.  13.  91.\n",
      " 215. 254. 245. 121.  23.   0.   0.   0.   0.   0.   0.   0.   0.   0.\n",
      "   0.   0.   0.   0.   0.   0.   0.   0.   0.   0.   0.   0.   0.   0.\n",
      "   0.   0.   0.   0.   0.   0.   0.   0.   0.   0.   0.   0.   0.   0.\n",
      "   0.   0.   0.   0.   0.   0.   0.   0.   0.   0.   0.   0.   0.   0.\n",
      "   0.   0.   0.   0.   0.   0.   0.   0.   0.   0.   0.   0.   0.   0.\n",
      "   0.   0.   0.   0.   0.   0.   0.   0.   0.   0.   0.   0.   0.   0.\n",
      "   0.   0.   0.   0.   0.   0.   0.   0.   0.   0.   0.   0.   0.   0.\n",
      "   0.   0.   0.   0.   0.   0.   0.   0.   0.   0.   0.   0.   0.   0.\n",
      "   0.   0.   0.   0.   0.   0.   0.   0.   0.   0.   0.   0.   0.   0.]\n"
     ]
    }
   ],
   "source": [
    "from sklearn.datasets import fetch_openml\n",
    "import numpy as np\n",
    "\n",
    "#Load data in\n",
    "X, y = fetch_openml('mnist_784', version=1, return_X_y=True)\n",
    "X = np.array(X, dtype=np.float32)\n",
    "y = np.array(y, dtype=int)\n",
    "\n",
    "#Pick only 5000\n",
    "np.random.seed(0)\n",
    "indices = np.random.choice(len(X), 5000, replace=False) \n",
    "X_subset = X[indices]\n",
    "y_subset = y[indices]\n",
    "\n",
    "#See what arrays look like\n",
    "print(\"X_subset shape:\", X_subset.shape)\n",
    "print(\"y_subset shape:\", y_subset.shape)\n",
    "print(X_subset[0])\n",
    "print(y_subset[0])\n",
    "\n"
   ]
  },
  {
   "cell_type": "code",
   "execution_count": null,
   "id": "5be8418d",
   "metadata": {},
   "outputs": [
    {
     "data": {
      "image/png": "[encoded data removed]",
      "text/plain": [
       "<Figure size 600x600 with 9 Axes>"
      ]
     },
     "metadata": {},
     "output_type": "display_data"
    }
   ],
   "source": [
    "#More visualization - Not important to project\n",
    "import matplotlib.pyplot as plt\n",
    "\n",
    "plt.figure(figsize=(6,6))\n",
    "for i in range(9):\n",
    "    plt.subplot(3,3,i+1)\n",
    "    plt.imshow(X_subset[i].reshape(28, 28), cmap='gray')\n",
    "    plt.title(int(y_subset[i]))\n",
    "    plt.axis('off')\n",
    "plt.tight_layout()\n",
    "plt.show()\n"
   ]
  },
  {
   "cell_type": "code",
   "execution_count": null,
   "id": "a7e67fbd",
   "metadata": {},
   "outputs": [],
   "source": []
  }
 ],
 "metadata": {
  "kernelspec": {
   "display_name": "base",
   "language": "python",
   "name": "python3"
  },
  "language_info": {
   "codemirror_mode": {
    "name": "ipython",
    "version": 3
   },
   "file_extension": ".py",
   "mimetype": "text/x-python",
   "name": "python",
   "nbconvert_exporter": "python",
   "pygments_lexer": "ipython3",
   "version": "3.13.5"
  }
 },
 "nbformat": 4,
 "nbformat_minor": 5
}
