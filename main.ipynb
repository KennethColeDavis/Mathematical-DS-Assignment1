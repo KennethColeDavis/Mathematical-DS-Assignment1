## Start of group Python notebook
